{
 "cells": [
  {
   "cell_type": "code",
   "execution_count": 1,
   "id": "a38a3995-9153-49bc-a49d-dc05f15edc7d",
   "metadata": {},
   "outputs": [
    {
     "name": "stdout",
     "output_type": "stream",
     "text": [
      "Python version: 3.12.11 (main, Jun 12 2025, 12:40:51) [Clang 20.1.4 ]\n",
      "NumPy version: 2.3.2\n",
      "PyTorch version: 2.8.0+cu128\n",
      "Is CUDA available? False\n",
      "\n",
      "PyTorch tensor operation:\n",
      "tensor([[0.7000, 0.7158, 0.6576],\n",
      "        [0.4344, 0.8619, 0.2656],\n",
      "        [0.5980, 0.5177, 0.0864],\n",
      "        [0.7360, 0.8865, 0.8801],\n",
      "        [0.2911, 0.7828, 0.2855]])\n"
     ]
    }
   ],
   "source": [
    "import sys\n",
    "import torch\n",
    "import numpy as np\n",
    "\n",
    "print(f\"Python version: {sys.version}\")\n",
    "print(f\"NumPy version: {np.__version__}\")\n",
    "print(f\"PyTorch version: {torch.__version__}\")\n",
    "print(f\"Is CUDA available? {torch.cuda.is_available()}\")\n",
    "\n",
    "# Test a simple tensor operation to verify PyTorch is working\n",
    "x = torch.rand(5, 3)\n",
    "print(\"\\nPyTorch tensor operation:\")\n",
    "print(x)"
   ]
  },
  {
   "cell_type": "code",
   "execution_count": null,
   "id": "3d8956bd-29e5-4729-bfc4-bd0284351479",
   "metadata": {},
   "outputs": [],
   "source": []
  }
 ],
 "metadata": {
  "kernelspec": {
   "display_name": "my_notebook",
   "language": "python",
   "name": "my_notebook"
  },
  "language_info": {
   "codemirror_mode": {
    "name": "ipython",
    "version": 3
   },
   "file_extension": ".py",
   "mimetype": "text/x-python",
   "name": "python",
   "nbconvert_exporter": "python",
   "pygments_lexer": "ipython3",
   "version": "3.12.11"
  }
 },
 "nbformat": 4,
 "nbformat_minor": 5
}
